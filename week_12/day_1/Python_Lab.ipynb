{
 "cells": [
  {
   "cell_type": "code",
   "execution_count": null,
   "metadata": {},
   "outputs": [],
   "source": [
    "** Python Lab**\n",
    "\n",
    "The questions in this lab work up to be quite challenging.\n",
    "They are designed to test your new Python skills alongside your programming and puzzle solving skills!\n",
    "You may need to look up new syntax for Python that we have not yet learned. "
   ]
  },
  {
   "cell_type": "code",
   "execution_count": null,
   "metadata": {},
   "outputs": [],
   "source": [
    "**Who knows where the time goes?**\n",
    "Given a list of the years in which people were born, write a list comprehension to determine\n",
    "their age based on the current year. Ignore dates and months when calculating this."
   ]
  },
  {
   "cell_type": "code",
   "execution_count": 2,
   "metadata": {},
   "outputs": [
    {
     "data": {
      "text/plain": [
       "[1990, 1991, 1990, 1990, 1992, 1991, 1976, 1984, 1940]"
      ]
     },
     "execution_count": 2,
     "metadata": {},
     "output_type": "execute_result"
    }
   ],
   "source": [
    "years_of_birth = [1990, 1991, 1990, 1990, 1992, 1991, 1976, 1984, 1940]\n",
    "years_of_birth"
   ]
  },
  {
   "cell_type": "code",
   "execution_count": 7,
   "metadata": {},
   "outputs": [
    {
     "data": {
      "text/plain": [
       "[31, 30, 31, 31, 29, 30, 45, 37, 81]"
      ]
     },
     "execution_count": 7,
     "metadata": {},
     "output_type": "execute_result"
    }
   ],
   "source": [
    "age = [2021 - years_of_birth for years_of_birth in years_of_birth]\n",
    "age"
   ]
  },
  {
   "cell_type": "code",
   "execution_count": null,
   "metadata": {},
   "outputs": [],
   "source": [
    "**Back to front**\n",
    "Write a function is_palindrome(input_string) to determine whether an input string is a palindrome\n",
    "(i.e. reads the same backwards as forwards, e.g. 'madam').\n",
    "The function should return True if the string is a palindrome and False otherwise.\n",
    "As an extension, amend your code so that it strips out spaces from the string."
   ]
  },
  {
   "cell_type": "code",
   "execution_count": 18,
   "metadata": {},
   "outputs": [
    {
     "name": "stdout",
     "output_type": "stream",
     "text": [
      "True\n"
     ]
    }
   ],
   "source": [
    "# function to check string is \n",
    "# palindrome or not \n",
    "def is_palindrome(str):\n",
    " \n",
    "    # Run loop from 0 to len/2 \n",
    "    for i in range(0, int(len(str)/2)): \n",
    "        if str[i] != str[len(str)-i-1]:\n",
    "            return False\n",
    "    return True\n",
    " \n",
    "# main function\n",
    "s = \"madam\"\n",
    "ans = is_palindrome(s)\n",
    " \n",
    "if (ans):\n",
    "    print(\"True\")\n",
    "else:\n",
    "    print(\"False\")"
   ]
  },
  {
   "cell_type": "code",
   "execution_count": null,
   "metadata": {},
   "outputs": [],
   "source": [
    "**Multiples of 3 or 5**\n",
    "If we list all the natural numbers below 10 that are multiples of 3 or 5,\n",
    "we get 3, 5, 6 and 9. The sum of these multiples is 23.\n",
    "Find the sum of all the multiples of 3 or 5 below 1000.\n",
    "\n",
    "From Project Euler (Problem 1)"
   ]
  },
  {
   "cell_type": "code",
   "execution_count": 30,
   "metadata": {},
   "outputs": [
    {
     "data": {
      "text/plain": [
       "[1, 2, 3, 4, 5, 6, 7, 8, 9, 10]"
      ]
     },
     "execution_count": 30,
     "metadata": {},
     "output_type": "execute_result"
    }
   ],
   "source": [
    "natural_10 = list(range(1 , 11))\n",
    "natural_10"
   ]
  },
  {
   "cell_type": "code",
   "execution_count": 45,
   "metadata": {},
   "outputs": [
    {
     "data": {
      "text/plain": [
       "366832"
      ]
     },
     "execution_count": 45,
     "metadata": {},
     "output_type": "execute_result"
    }
   ],
   "source": [
    "multiple_3_5 = []\n",
    "\n",
    "for number in range(1001):\n",
    "    if number % 3 or number % 5 ==0:\n",
    "        multiple_3_5.append(number)\n",
    "    \n",
    "sum(multiple_3_5)"
   ]
  },
  {
   "cell_type": "code",
   "execution_count": null,
   "metadata": {},
   "outputs": [],
   "source": [
    "**No need to repeat yourself...**\n",
    "\n",
    "Write a function remove_duplicates(input_list) that takes in an input list of words and removes any duplicates\n",
    "it finds, returning the list without duplicates. For example with input:\n",
    "\n",
    "input_list = [\"I\", \"am\", \"counting\", \"my\", \"calories\", \"yet\", \"I\",\n",
    "              \"really\", \"want\", \"dessert\", \"I\", \"am\", \"still\", \"hungry\"]\n",
    "\n",
    "the function should output:\n",
    "\n",
    "[\"I\", \"am\", \"counting\", \"my\", \"calories\", \"yet\", \"really\", \"want\", \"dessert\", \"still\", \"hungry\"]\n",
    "\n"
   ]
  },
  {
   "cell_type": "code",
   "execution_count": 46,
   "metadata": {},
   "outputs": [
    {
     "name": "stdout",
     "output_type": "stream",
     "text": [
      "['I', 'am', 'counting', 'my', 'calories', 'yet', 'really', 'want', 'dessert', 'still', 'hungry']\n"
     ]
    }
   ],
   "source": [
    "input_list = [\"I\", \"am\", \"counting\", \"my\", \"calories\", \"yet\", \"I\", \"really\", \"want\", \"dessert\", \"I\", \"am\", \"still\", \"hungry\"]\n",
    "input_list = list(dict.fromkeys(input_list))\n",
    "print(input_list)"
   ]
  },
  {
   "cell_type": "code",
   "execution_count": null,
   "metadata": {},
   "outputs": [],
   "source": [
    "**List overlap**\n",
    "Write a function list_overlap(list_1, list_2) that returns the overlap between two input\n",
    "lists list_1 and list_2 of numbers (i.e. the elements present in both lists).\n",
    "The input lists need not be the same size. For example, for the following inputs:\n",
    "\n",
    "list_1 = [1, 4, 5, 6, 6, 5, 10, 11, 12]\n",
    "list_2 = [3, 2, 6, 10]\n",
    "\n",
    "the function should output [6, 10] (or [10, 6]; order isn't important)."
   ]
  },
  {
   "cell_type": "code",
   "execution_count": 47,
   "metadata": {},
   "outputs": [
    {
     "data": {
      "text/plain": [
       "[6, 10]"
      ]
     },
     "execution_count": 47,
     "metadata": {},
     "output_type": "execute_result"
    }
   ],
   "source": [
    "def list_overlap(list_1, list_2):\n",
    "  output_list = []\n",
    "  for number in list_1:\n",
    "    if number in list_2 and number not in output_list:\n",
    "      output_list.append(number)\n",
    "  return output_list\n",
    "  \n",
    "list_overlap([1, 4, 5, 6, 6, 5, 10, 11, 12], [3, 2, 6, 10])"
   ]
  },
  {
   "cell_type": "code",
   "execution_count": null,
   "metadata": {},
   "outputs": [],
   "source": [
    "**Even Fibonacci numbers**\n",
    "Each new term in a Fibonacci sequence is generated by adding the previous two terms.\n",
    "So starting with 1 and 2, the first 10 terms will be:\n",
    "\n",
    "1, 2, 3, 5, 8, 13, 21, 34, 55, 89, ...\n",
    "\n",
    "By considering the terms in this Fibonacci sequence whose values do not exceed four million,\n",
    "find the sum of the even-valued terms.\n",
    "\n",
    "From Project Euler (Problem 2)"
   ]
  }
 ],
 "metadata": {
  "kernelspec": {
   "display_name": "Python 3",
   "language": "python",
   "name": "python3"
  },
  "language_info": {
   "codemirror_mode": {
    "name": "ipython",
    "version": 3
   },
   "file_extension": ".py",
   "mimetype": "text/x-python",
   "name": "python",
   "nbconvert_exporter": "python",
   "pygments_lexer": "ipython3",
   "version": "3.8.3"
  }
 },
 "nbformat": 4,
 "nbformat_minor": 4
}
